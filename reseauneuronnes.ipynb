{
  "nbformat": 4,
  "nbformat_minor": 0,
  "metadata": {
    "colab": {
      "provenance": [],
      "authorship_tag": "ABX9TyPpKmBx0hi5B6sZbkDbvjgw",
      "include_colab_link": true
    },
    "kernelspec": {
      "name": "python3",
      "display_name": "Python 3"
    },
    "language_info": {
      "name": "python"
    }
  },
  "cells": [
    {
      "cell_type": "markdown",
      "metadata": {
        "id": "view-in-github",
        "colab_type": "text"
      },
      "source": [
        "<a href=\"https://colab.research.google.com/github/AmalSalhi1/TP1ML/blob/main/reseauneuronnes.ipynb\" target=\"_parent\"><img src=\"https://colab.research.google.com/assets/colab-badge.svg\" alt=\"Open In Colab\"/></a>"
      ]
    },
    {
      "cell_type": "code",
      "execution_count": 1,
      "metadata": {
        "colab": {
          "base_uri": "https://localhost:8080/"
        },
        "id": "AtYKGtds_8yE",
        "outputId": "240aff3a-0648-48df-b619-b6de63707ba1"
      },
      "outputs": [
        {
          "output_type": "stream",
          "name": "stdout",
          "text": [
            "Requirement already satisfied: kaggle in /usr/local/lib/python3.10/dist-packages (1.6.12)\n",
            "Requirement already satisfied: six>=1.10 in /usr/local/lib/python3.10/dist-packages (from kaggle) (1.16.0)\n",
            "Requirement already satisfied: certifi>=2023.7.22 in /usr/local/lib/python3.10/dist-packages (from kaggle) (2024.2.2)\n",
            "Requirement already satisfied: python-dateutil in /usr/local/lib/python3.10/dist-packages (from kaggle) (2.8.2)\n",
            "Requirement already satisfied: requests in /usr/local/lib/python3.10/dist-packages (from kaggle) (2.31.0)\n",
            "Requirement already satisfied: tqdm in /usr/local/lib/python3.10/dist-packages (from kaggle) (4.66.4)\n",
            "Requirement already satisfied: python-slugify in /usr/local/lib/python3.10/dist-packages (from kaggle) (8.0.4)\n",
            "Requirement already satisfied: urllib3 in /usr/local/lib/python3.10/dist-packages (from kaggle) (2.0.7)\n",
            "Requirement already satisfied: bleach in /usr/local/lib/python3.10/dist-packages (from kaggle) (6.1.0)\n",
            "Requirement already satisfied: webencodings in /usr/local/lib/python3.10/dist-packages (from bleach->kaggle) (0.5.1)\n",
            "Requirement already satisfied: text-unidecode>=1.3 in /usr/local/lib/python3.10/dist-packages (from python-slugify->kaggle) (1.3)\n",
            "Requirement already satisfied: charset-normalizer<4,>=2 in /usr/local/lib/python3.10/dist-packages (from requests->kaggle) (3.3.2)\n",
            "Requirement already satisfied: idna<4,>=2.5 in /usr/local/lib/python3.10/dist-packages (from requests->kaggle) (3.7)\n"
          ]
        }
      ],
      "source": [
        "!pip install kaggle\n"
      ]
    },
    {
      "cell_type": "code",
      "source": [
        "!mkdir ~/.kaggle\n",
        "!cp kaggle.json ~/.kaggle/\n",
        "!chmod 600 ~/.kaggle/kaggle.json"
      ],
      "metadata": {
        "colab": {
          "base_uri": "https://localhost:8080/"
        },
        "id": "Z_IFbT8HA8dg",
        "outputId": "f08479e0-4871-4cc5-b8c5-15d2dc15356f"
      },
      "execution_count": 2,
      "outputs": [
        {
          "output_type": "stream",
          "name": "stdout",
          "text": [
            "cp: cannot stat 'kaggle.json': No such file or directory\n",
            "chmod: cannot access '/root/.kaggle/kaggle.json': No such file or directory\n"
          ]
        }
      ]
    },
    {
      "cell_type": "code",
      "source": [
        "!kaggle datasets download -d ahmedaliraja/customer-satisfaction-10k -p /content/datasets"
      ],
      "metadata": {
        "colab": {
          "base_uri": "https://localhost:8080/"
        },
        "id": "-vOWgCyMBhD2",
        "outputId": "5e45f138-8819-4133-e899-b47bfffb9b49"
      },
      "execution_count": 3,
      "outputs": [
        {
          "output_type": "stream",
          "name": "stdout",
          "text": [
            "Warning: Looks like you're using an outdated API Version, please consider updating (server 1.6.14 / client 1.6.12)\n",
            "Dataset URL: https://www.kaggle.com/datasets/ahmedaliraja/customer-satisfaction-10k\n",
            "License(s): other\n",
            "Downloading customer-satisfaction-10k.zip to /content/datasets\n",
            "  0% 0.00/33.4k [00:00<?, ?B/s]\n",
            "100% 33.4k/33.4k [00:00<00:00, 48.5MB/s]\n"
          ]
        }
      ]
    },
    {
      "cell_type": "code",
      "source": [
        "!unzip /content/datasets/customer-satisfaction-10k.zip"
      ],
      "metadata": {
        "colab": {
          "base_uri": "https://localhost:8080/"
        },
        "id": "ORw6XhokB6du",
        "outputId": "f03a930a-a827-430e-e917-3c3cb11cd4a7"
      },
      "execution_count": 4,
      "outputs": [
        {
          "output_type": "stream",
          "name": "stdout",
          "text": [
            "Archive:  /content/datasets/customer-satisfaction-10k.zip\n",
            "  inflating: Customer-survey-data.csv  \n"
          ]
        }
      ]
    },
    {
      "cell_type": "code",
      "source": [
        "import pandas as pd\n",
        "df = pd.read_csv(\"/content/Customer-survey-data.csv\")\n",
        "print(df.head())"
      ],
      "metadata": {
        "colab": {
          "base_uri": "https://localhost:8080/"
        },
        "id": "-Heg3YkVCEA8",
        "outputId": "0fbd36fa-ce38-4750-ec8b-01af93e4b97c"
      },
      "execution_count": 30,
      "outputs": [
        {
          "output_type": "stream",
          "name": "stdout",
          "text": [
            "   Customer  \\\n",
            "0         1   \n",
            "1         2   \n",
            "2         3   \n",
            "3         4   \n",
            "4         5   \n",
            "\n",
            "   How satisfied were you with your overall delivery experience at Ali?                    1-5 where 1 = extremely dissatisfied and 5 = extremely satisfied  \\\n",
            "0                                                5.0                                                                                                          \n",
            "1                                                3.0                                                                                                          \n",
            "2                                                4.0                                                                                                          \n",
            "3                                                5.0                                                                                                          \n",
            "4                                                2.0                                                                                                          \n",
            "\n",
            "   How satisfied were you with the quality of the food at Alis?                             1-5 where 1 = extremely dissatisfied and 5 = extremely satisfied  \\\n",
            "0                                                3.0                                                                                                           \n",
            "1                                                4.0                                                                                                           \n",
            "2                                                5.0                                                                                                           \n",
            "3                                                3.0                                                                                                           \n",
            "4                                                5.0                                                                                                           \n",
            "\n",
            "   How satisfied were you with the speed of delivery at Alis?                                1-5 where 1 = extremely dissatisfied and 5 = extremely satisfied  \\\n",
            "0                                                4.0                                                                                                            \n",
            "1                                                3.0                                                                                                            \n",
            "2                                                2.0                                                                                                            \n",
            "3                                                4.0                                                                                                            \n",
            "4                                                1.0                                                                                                            \n",
            "\n",
            "  Was your order accurate? Please respond yes or no.  \n",
            "0                                                Yes  \n",
            "1                                                Yes  \n",
            "2                                                Yes  \n",
            "3                                                Yes  \n",
            "4                                                Yes  \n"
          ]
        }
      ]
    },
    {
      "cell_type": "code",
      "source": [
        "# @title supprimer des lignes avec valeurs manquantes\n",
        "df = df.dropna()"
      ],
      "metadata": {
        "id": "u0jS5OcGCIbL"
      },
      "execution_count": 6,
      "outputs": []
    },
    {
      "cell_type": "code",
      "source": [
        "# @title separer features et target\n",
        "X = df.drop(columns=['Customer', 'Was your order accurate? Please respond yes or no.'])\n",
        "y = df['Was your order accurate? Please respond yes or no.']"
      ],
      "metadata": {
        "id": "dT2vrOf7Camy"
      },
      "execution_count": 7,
      "outputs": []
    },
    {
      "cell_type": "code",
      "source": [
        "# @title entrainement et test\n",
        "from sklearn.model_selection import train_test_split\n",
        "\n",
        "X_train, X_test, y_train, y_test = train_test_split(X, y, test_size=0.2, random_state=42)"
      ],
      "metadata": {
        "id": "hBfFKqhTCfAj"
      },
      "execution_count": 8,
      "outputs": []
    },
    {
      "cell_type": "code",
      "source": [
        "# @title Standardisation data\n",
        "from sklearn.preprocessing import StandardScaler\n",
        "\n",
        "scaler = StandardScaler()\n",
        "X_train_1 = scaler.fit_transform(X_train)\n",
        "X_test_1 = scaler.transform(X_test)"
      ],
      "metadata": {
        "id": "d71W7gfPCm0X"
      },
      "execution_count": 9,
      "outputs": []
    },
    {
      "cell_type": "code",
      "source": [
        "# @title importer les bib necessaires\n",
        "import pandas as pd\n",
        "import numpy as np\n",
        "import tensorflow as tf\n",
        "from tensorflow.keras.models import Sequential\n",
        "from tensorflow.keras.layers import Dense\n",
        "from sklearn.model_selection import train_test_split\n",
        "from sklearn.preprocessing import StandardScaler\n"
      ],
      "metadata": {
        "id": "8CYJyv81NR6h"
      },
      "execution_count": 10,
      "outputs": []
    },
    {
      "cell_type": "code",
      "source": [
        "# @title construire le modele reseau de neuronne\n",
        "# Définir le modèle\n",
        "model = Sequential()\n",
        "\n",
        "# Ajouter des couches\n",
        "model.add(Dense(64, input_dim=X_train.shape[1], activation='relu'))\n",
        "model.add(Dense(32, activation='relu'))\n",
        "model.add(Dense(1, activation='sigmoid'))  # Utilisez 'softmax' pour une classification multiclasse\n",
        "\n",
        "# Compiler le modèle\n",
        "model.compile(loss='binary_crossentropy', optimizer='adam', metrics=['accuracy'])  # Utilisez 'categorical_crossentropy' pour une classification multiclasse\n"
      ],
      "metadata": {
        "id": "4ipSnulDNgvx"
      },
      "execution_count": 11,
      "outputs": []
    },
    {
      "cell_type": "code",
      "source": [
        "# Assurez-vous que les données sont des tableaux NumPy\n",
        "import numpy as np\n",
        "\n",
        "X_train = np.array(X_train)\n",
        "y_train = np.array(y_train)\n",
        "\n",
        "# Vérifiez les types de données\n",
        "print(X_train.dtype, y_train.dtype)\n",
        "\n",
        "# Assurez-vous que y_train contient des valeurs numériques\n",
        "print(np.unique(y_train))\n",
        "\n",
        "# Si y_train contient des catégories, encodez-les en numériques\n",
        "from sklearn.preprocessing import LabelEncoder\n",
        "\n",
        "label_encoder = LabelEncoder()\n",
        "y_train = label_encoder.fit_transform(y_train)\n",
        "\n",
        "# Vérifiez à nouveau les valeurs uniques après encodage\n",
        "print(np.unique(y_train))\n",
        "\n",
        "# Maintenant, entraînez le modèle\n",
        "history = model.fit(X_train, y_train, epochs=50, batch_size=10, validation_split=0.2)\n"
      ],
      "metadata": {
        "colab": {
          "base_uri": "https://localhost:8080/"
        },
        "id": "lEE-5tijRMOX",
        "outputId": "4fa68d7e-57fd-45da-a2af-dc408b905e4e"
      },
      "execution_count": 22,
      "outputs": [
        {
          "output_type": "stream",
          "name": "stdout",
          "text": [
            "float64 object\n",
            "['No' 'Yes']\n",
            "[0 1]\n",
            "Epoch 1/50\n",
            "595/595 [==============================] - 4s 4ms/step - loss: 0.6085 - accuracy: 0.7105 - val_loss: 0.6070 - val_accuracy: 0.7238\n",
            "Epoch 2/50\n",
            "595/595 [==============================] - 5s 8ms/step - loss: 0.6029 - accuracy: 0.7139 - val_loss: 0.5888 - val_accuracy: 0.7238\n",
            "Epoch 3/50\n",
            "595/595 [==============================] - 3s 5ms/step - loss: 0.6007 - accuracy: 0.7139 - val_loss: 0.5899 - val_accuracy: 0.7238\n",
            "Epoch 4/50\n",
            "595/595 [==============================] - 3s 4ms/step - loss: 0.5992 - accuracy: 0.7139 - val_loss: 0.5910 - val_accuracy: 0.7238\n",
            "Epoch 5/50\n",
            "595/595 [==============================] - 2s 3ms/step - loss: 0.5993 - accuracy: 0.7139 - val_loss: 0.5928 - val_accuracy: 0.7238\n",
            "Epoch 6/50\n",
            "595/595 [==============================] - 2s 3ms/step - loss: 0.5993 - accuracy: 0.7139 - val_loss: 0.5884 - val_accuracy: 0.7238\n",
            "Epoch 7/50\n",
            "595/595 [==============================] - 1s 2ms/step - loss: 0.5988 - accuracy: 0.7139 - val_loss: 0.5876 - val_accuracy: 0.7238\n",
            "Epoch 8/50\n",
            "595/595 [==============================] - 2s 3ms/step - loss: 0.5978 - accuracy: 0.7139 - val_loss: 0.5869 - val_accuracy: 0.7238\n",
            "Epoch 9/50\n",
            "595/595 [==============================] - 2s 3ms/step - loss: 0.5989 - accuracy: 0.7139 - val_loss: 0.5864 - val_accuracy: 0.7238\n",
            "Epoch 10/50\n",
            "595/595 [==============================] - 2s 3ms/step - loss: 0.5974 - accuracy: 0.7139 - val_loss: 0.5868 - val_accuracy: 0.7238\n",
            "Epoch 11/50\n",
            "595/595 [==============================] - 2s 4ms/step - loss: 0.5973 - accuracy: 0.7139 - val_loss: 0.5883 - val_accuracy: 0.7238\n",
            "Epoch 12/50\n",
            "595/595 [==============================] - 2s 4ms/step - loss: 0.5970 - accuracy: 0.7139 - val_loss: 0.5848 - val_accuracy: 0.7238\n",
            "Epoch 13/50\n",
            "595/595 [==============================] - 1s 2ms/step - loss: 0.5971 - accuracy: 0.7139 - val_loss: 0.5854 - val_accuracy: 0.7238\n",
            "Epoch 14/50\n",
            "595/595 [==============================] - 2s 3ms/step - loss: 0.5968 - accuracy: 0.7139 - val_loss: 0.5854 - val_accuracy: 0.7238\n",
            "Epoch 15/50\n",
            "595/595 [==============================] - 2s 3ms/step - loss: 0.5965 - accuracy: 0.7139 - val_loss: 0.5860 - val_accuracy: 0.7238\n",
            "Epoch 16/50\n",
            "595/595 [==============================] - 2s 3ms/step - loss: 0.5966 - accuracy: 0.7139 - val_loss: 0.5893 - val_accuracy: 0.7238\n",
            "Epoch 17/50\n",
            "595/595 [==============================] - 2s 3ms/step - loss: 0.5965 - accuracy: 0.7139 - val_loss: 0.5866 - val_accuracy: 0.7238\n",
            "Epoch 18/50\n",
            "595/595 [==============================] - 2s 3ms/step - loss: 0.5957 - accuracy: 0.7139 - val_loss: 0.5856 - val_accuracy: 0.7238\n",
            "Epoch 19/50\n",
            "595/595 [==============================] - 3s 4ms/step - loss: 0.5958 - accuracy: 0.7139 - val_loss: 0.5871 - val_accuracy: 0.7238\n",
            "Epoch 20/50\n",
            "595/595 [==============================] - 2s 3ms/step - loss: 0.5957 - accuracy: 0.7139 - val_loss: 0.5854 - val_accuracy: 0.7238\n",
            "Epoch 21/50\n",
            "595/595 [==============================] - 2s 3ms/step - loss: 0.5961 - accuracy: 0.7139 - val_loss: 0.5891 - val_accuracy: 0.7238\n",
            "Epoch 22/50\n",
            "595/595 [==============================] - 2s 3ms/step - loss: 0.5957 - accuracy: 0.7139 - val_loss: 0.5859 - val_accuracy: 0.7238\n",
            "Epoch 23/50\n",
            "595/595 [==============================] - 2s 3ms/step - loss: 0.5956 - accuracy: 0.7139 - val_loss: 0.5863 - val_accuracy: 0.7238\n",
            "Epoch 24/50\n",
            "595/595 [==============================] - 2s 3ms/step - loss: 0.5958 - accuracy: 0.7139 - val_loss: 0.5864 - val_accuracy: 0.7238\n",
            "Epoch 25/50\n",
            "595/595 [==============================] - 2s 3ms/step - loss: 0.5955 - accuracy: 0.7139 - val_loss: 0.5861 - val_accuracy: 0.7238\n",
            "Epoch 26/50\n",
            "595/595 [==============================] - 2s 3ms/step - loss: 0.5955 - accuracy: 0.7139 - val_loss: 0.5847 - val_accuracy: 0.7238\n",
            "Epoch 27/50\n",
            "595/595 [==============================] - 2s 4ms/step - loss: 0.5955 - accuracy: 0.7139 - val_loss: 0.5863 - val_accuracy: 0.7238\n",
            "Epoch 28/50\n",
            "595/595 [==============================] - 3s 5ms/step - loss: 0.5953 - accuracy: 0.7139 - val_loss: 0.5893 - val_accuracy: 0.7238\n",
            "Epoch 29/50\n",
            "595/595 [==============================] - 2s 3ms/step - loss: 0.5959 - accuracy: 0.7139 - val_loss: 0.5883 - val_accuracy: 0.7238\n",
            "Epoch 30/50\n",
            "595/595 [==============================] - 2s 3ms/step - loss: 0.5955 - accuracy: 0.7139 - val_loss: 0.5865 - val_accuracy: 0.7238\n",
            "Epoch 31/50\n",
            "595/595 [==============================] - 2s 3ms/step - loss: 0.5952 - accuracy: 0.7139 - val_loss: 0.5865 - val_accuracy: 0.7238\n",
            "Epoch 32/50\n",
            "595/595 [==============================] - 2s 3ms/step - loss: 0.5948 - accuracy: 0.7139 - val_loss: 0.5859 - val_accuracy: 0.7238\n",
            "Epoch 33/50\n",
            "595/595 [==============================] - 2s 3ms/step - loss: 0.5954 - accuracy: 0.7139 - val_loss: 0.5870 - val_accuracy: 0.7238\n",
            "Epoch 34/50\n",
            "595/595 [==============================] - 1s 2ms/step - loss: 0.5951 - accuracy: 0.7139 - val_loss: 0.5860 - val_accuracy: 0.7238\n",
            "Epoch 35/50\n",
            "595/595 [==============================] - 2s 4ms/step - loss: 0.5952 - accuracy: 0.7139 - val_loss: 0.5874 - val_accuracy: 0.7238\n",
            "Epoch 36/50\n",
            "595/595 [==============================] - 2s 4ms/step - loss: 0.5948 - accuracy: 0.7139 - val_loss: 0.5872 - val_accuracy: 0.7238\n",
            "Epoch 37/50\n",
            "595/595 [==============================] - 2s 3ms/step - loss: 0.5949 - accuracy: 0.7139 - val_loss: 0.5853 - val_accuracy: 0.7238\n",
            "Epoch 38/50\n",
            "595/595 [==============================] - 1s 2ms/step - loss: 0.5949 - accuracy: 0.7139 - val_loss: 0.5876 - val_accuracy: 0.7238\n",
            "Epoch 39/50\n",
            "595/595 [==============================] - 2s 3ms/step - loss: 0.5949 - accuracy: 0.7139 - val_loss: 0.5860 - val_accuracy: 0.7238\n",
            "Epoch 40/50\n",
            "595/595 [==============================] - 2s 3ms/step - loss: 0.5950 - accuracy: 0.7139 - val_loss: 0.5886 - val_accuracy: 0.7238\n",
            "Epoch 41/50\n",
            "595/595 [==============================] - 2s 3ms/step - loss: 0.5946 - accuracy: 0.7139 - val_loss: 0.5875 - val_accuracy: 0.7238\n",
            "Epoch 42/50\n",
            "595/595 [==============================] - 1s 2ms/step - loss: 0.5950 - accuracy: 0.7139 - val_loss: 0.5862 - val_accuracy: 0.7238\n",
            "Epoch 43/50\n",
            "595/595 [==============================] - 3s 4ms/step - loss: 0.5946 - accuracy: 0.7139 - val_loss: 0.5872 - val_accuracy: 0.7238\n",
            "Epoch 44/50\n",
            "595/595 [==============================] - 2s 3ms/step - loss: 0.5945 - accuracy: 0.7139 - val_loss: 0.5895 - val_accuracy: 0.7238\n",
            "Epoch 45/50\n",
            "595/595 [==============================] - 2s 3ms/step - loss: 0.5948 - accuracy: 0.7139 - val_loss: 0.5898 - val_accuracy: 0.7238\n",
            "Epoch 46/50\n",
            "595/595 [==============================] - 1s 2ms/step - loss: 0.5946 - accuracy: 0.7139 - val_loss: 0.5892 - val_accuracy: 0.7238\n",
            "Epoch 47/50\n",
            "595/595 [==============================] - 1s 2ms/step - loss: 0.5950 - accuracy: 0.7139 - val_loss: 0.5868 - val_accuracy: 0.7238\n",
            "Epoch 48/50\n",
            "595/595 [==============================] - 1s 2ms/step - loss: 0.5943 - accuracy: 0.7139 - val_loss: 0.5857 - val_accuracy: 0.7238\n",
            "Epoch 49/50\n",
            "595/595 [==============================] - 2s 3ms/step - loss: 0.5943 - accuracy: 0.7139 - val_loss: 0.5869 - val_accuracy: 0.7238\n",
            "Epoch 50/50\n",
            "595/595 [==============================] - 2s 3ms/step - loss: 0.5948 - accuracy: 0.7139 - val_loss: 0.5881 - val_accuracy: 0.7238\n"
          ]
        }
      ]
    },
    {
      "cell_type": "code",
      "source": [
        "# Ensure NumPy arrays\n",
        "X_test = np.array(X_test)\n",
        "y_test = np.array(y_test)\n",
        "\n",
        "# Check data types\n",
        "print(X_test.dtype, y_test.dtype)\n",
        "\n",
        "# If necessary, apply data cleaning or preprocessing techniques\n",
        "\n",
        "# Ensure y_test contains numerical values\n",
        "if isinstance(y_test[0], str):\n",
        "  # Convert string labels to numerical values using LabelEncoder\n",
        "  from sklearn.preprocessing import LabelEncoder\n",
        "  label_encoder = LabelEncoder()\n",
        "  y_test = label_encoder.fit_transform(y_test)\n",
        "\n",
        "# Evaluate the model\n",
        "loss, accuracy = model.evaluate(X_test, y_test)\n",
        "print(f'Loss: {loss}')\n",
        "print(f'Accuracy: {accuracy}')"
      ],
      "metadata": {
        "colab": {
          "base_uri": "https://localhost:8080/"
        },
        "id": "Hwutidomannk",
        "outputId": "88f221cd-3963-4c56-8ddf-59945819101c"
      },
      "execution_count": 39,
      "outputs": [
        {
          "output_type": "stream",
          "name": "stdout",
          "text": [
            "float64 object\n",
            "59/59 [==============================] - 0s 6ms/step - loss: 0.5978 - accuracy: 0.7113\n",
            "Loss: 0.5977792143821716\n",
            "Accuracy: 0.7112902998924255\n"
          ]
        }
      ]
    },
    {
      "cell_type": "code",
      "source": [
        "# Faire des prédictions\n",
        "y_pred = model.predict(X_test)\n",
        "y_pred_classes = (y_pred > 0.5).astype(\"int32\")  # Seulement si vous faites une classification binaire\n",
        "\n",
        "# Afficher quelques prédictions\n",
        "print(y_pred_classes[:10])\n"
      ],
      "metadata": {
        "colab": {
          "base_uri": "https://localhost:8080/"
        },
        "id": "WoQha2pDbbKB",
        "outputId": "433c3820-6391-4e75-d69f-4faaa9fd1e30"
      },
      "execution_count": 40,
      "outputs": [
        {
          "output_type": "stream",
          "name": "stdout",
          "text": [
            "59/59 [==============================] - 0s 3ms/step\n",
            "[[1]\n",
            " [1]\n",
            " [1]\n",
            " [1]\n",
            " [1]\n",
            " [1]\n",
            " [1]\n",
            " [1]\n",
            " [1]\n",
            " [1]]\n"
          ]
        }
      ]
    },
    {
      "cell_type": "code",
      "source": [
        "import matplotlib.pyplot as plt\n",
        "\n",
        "# Résumé de l'entraînement\n",
        "plt.plot(history.history['accuracy'])\n",
        "plt.plot(history.history['val_accuracy'])\n",
        "plt.title('Modèle de précision')\n",
        "plt.xlabel('Époch')\n",
        "plt.ylabel('Précision')\n",
        "plt.legend(['Entraînement', 'Validation'], loc='upper left')\n",
        "plt.show()\n",
        "\n",
        "plt.plot(history.history['loss'])\n",
        "plt.plot(history.history['val_loss'])\n",
        "plt.title('Modèle de perte')\n",
        "plt.xlabel('Époch')\n",
        "plt.ylabel('Perte')\n",
        "plt.legend(['Entraînement', 'Validation'], loc='upper left')\n",
        "plt.show()\n"
      ],
      "metadata": {
        "colab": {
          "base_uri": "https://localhost:8080/",
          "height": 931
        },
        "id": "0I1sWvfWbhby",
        "outputId": "a782400b-b787-4137-a717-9186fa063262"
      },
      "execution_count": 41,
      "outputs": [
        {
          "output_type": "display_data",
          "data": {
            "text/plain": [
              "<Figure size 640x480 with 1 Axes>"
            ],
            "image/png": "[encoded data removed]"
          },
          "metadata": {}
        },
        {
          "output_type": "display_data",
          "data": {
            "text/plain": [
              "<Figure size 640x480 with 1 Axes>"
            ],
            "image/png": "[encoded data removed]"
          },
          "metadata": {}
        }
      ]
    }
  ]
}